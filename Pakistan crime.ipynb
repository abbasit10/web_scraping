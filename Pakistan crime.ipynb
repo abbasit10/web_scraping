{
 "cells": [
  {
   "cell_type": "code",
   "execution_count": 1,
   "id": "0ed8b4b0",
   "metadata": {},
   "outputs": [],
   "source": [
    "from bs4 import BeautifulSoup\n",
    "import requests"
   ]
  },
  {
   "cell_type": "code",
   "execution_count": 2,
   "id": "17106b87",
   "metadata": {},
   "outputs": [],
   "source": [
    "city_urls = [\n",
    "    \"https://www.numbeo.com/crime/in/Abbottabad-Pakistan\",\n",
    "    \"https://www.numbeo.com/crime/in/Attock-Pakistan\",\n",
    "    \"https://www.numbeo.com/crime/in/Bahawalnagar-Pakistan\",\n",
    "    \"https://www.numbeo.com/crime/in/Bahawalpur-Pakistan\",\n",
    "    \"https://www.numbeo.com/crime/in/Chiniot-Pakistan\",\n",
    "    \"https://www.numbeo.com/crime/in/Daska-Pakistan\",\n",
    "    \"https://www.numbeo.com/crime/in/Dera-Ghazi-Khan-Pakistan\",\n",
    "    \"https://www.numbeo.com/crime/in/Faisalabad\",\n",
    "    \"https://www.numbeo.com/crime/in/Gilgit-Pakistan\",\n",
    "    \"https://www.numbeo.com/crime/in/Gojra-Pakistan\",\n",
    "    \"https://www.numbeo.com/crime/in/Gujranwala\",\n",
    "    \"https://www.numbeo.com/crime/in/Gujrat-Pakistan\",\n",
    "    \"https://www.numbeo.com/crime/in/Hyderabad-Pakistan\",\n",
    "    \"https://www.numbeo.com/crime/in/Islamabad\",\n",
    "    \"https://www.numbeo.com/crime/in/Jhelum-Pakistan\",\n",
    "    \"https://www.numbeo.com/crime/in/Karachi\",\n",
    "    \"https://www.numbeo.com/crime/in/Khairpur-Pakistan\",\n",
    "    \"https://www.numbeo.com/crime/in/Lahore\",\n",
    "    \"https://www.numbeo.com/crime/in/Larkana-Pakistan\",\n",
    "    \"https://www.numbeo.com/crime/in/Layyah-Pakistan\",\n",
    "    \"https://www.numbeo.com/crime/in/Mardan-Pakistan\",\n",
    "    \"https://www.numbeo.com/crime/in/Mirpur-Khas-Pakistan\",\n",
    "    \"https://www.numbeo.com/crime/in/Multan\",\n",
    "    \"https://www.numbeo.com/crime/in/Muzaffarabad-Pakistan\",\n",
    "    \"https://www.numbeo.com/crime/in/Okara-Pakistan\",\n",
    "    \"https://www.numbeo.com/crime/in/Peshawar\",\n",
    "    \"https://www.numbeo.com/crime/in/Quetta\",\n",
    "    \"https://www.numbeo.com/crime/in/Rahim-Yar-Khan\",\n",
    "    \"https://www.numbeo.com/crime/in/Rawalpindi\",\n",
    "    \"https://www.numbeo.com/crime/in/Sahiwal-Pakistan\",\n",
    "    \"https://www.numbeo.com/crime/in/Sargodha-Pakistan\",\n",
    "    \"https://www.numbeo.com/crime/in/Sheikhupura-Pakistan\",\n",
    "    \"https://www.numbeo.com/crime/in/Sialkot\",\n",
    "    \"https://www.numbeo.com/crime/in/Skardu-Pakistan\",\n",
    "    \"https://www.numbeo.com/crime/in/Swat-Pakistan\",\n",
    "    \"https://www.numbeo.com/crime/in/Wah-Pakistan\"\n",
    "    \n",
    "]"
   ]
  },
  {
   "cell_type": "code",
   "execution_count": 3,
   "id": "6e82f386",
   "metadata": {},
   "outputs": [],
   "source": [
    "data = []\n",
    "column_names = set()\n",
    "\n",
    "# Loop over each city URL\n",
    "for city_url in city_urls:\n",
    "    try:\n",
    "        headers = {\n",
    "            'User-Agent': 'Mozilla/5.0 (Windows NT 10.0; Win64; x64) AppleWebKit/537.36 (KHTML, like Gecko) Chrome/91.0.4472.124 Safari/537.36'\n",
    "        }\n",
    "\n",
    "        source = requests.get(city_url, headers=headers)\n",
    "        source.raise_for_status()\n",
    "\n",
    "        soup = BeautifulSoup(source.text, \"html.parser\")\n",
    "        crime_rows = soup.find('table', class_=\"table_builder_with_value_explanation data_wide_table\").find_all(\"tr\")\n",
    "        \n",
    "        # Initialize a dictionary to store values for the current city\n",
    "        city_data = {}\n",
    "\n",
    "        for crimepk in crime_rows:\n",
    "            crime_type = crimepk.find_all('td', class_=\"columnWithName\")[0].text.strip()\n",
    "            value = crimepk.find_all('td', class_=\"indexValueTd\", style=\"text-align: right\")[0].text.strip()\n",
    "\n",
    "            items = value.strip().split(\"\\n\")\n",
    "            # Extract only the float values\n",
    "            values = [float(item) for item in items if item.replace('.', '', 1).isdigit()]\n",
    "            \n",
    "            # Store the value in the dictionary and update the set of column names\n",
    "            if values:\n",
    "                city_data[crime_type] = values[0]\n",
    "                column_names.add(crime_type)\n",
    "\n",
    "        # Append the collected city data to the data list\n",
    "        if city_data:\n",
    "            data.append(city_data)\n",
    "            \n",
    "            \n",
    "    except Exception as e:\n",
    "        print(f\"An error occurred for URL {city_url}: {e}\")"
   ]
  },
  {
   "cell_type": "code",
   "execution_count": 4,
   "id": "84866dc1",
   "metadata": {},
   "outputs": [],
   "source": [
    "import pandas as pd"
   ]
  },
  {
   "cell_type": "code",
   "execution_count": 5,
   "id": "6eeef6c3",
   "metadata": {},
   "outputs": [],
   "source": [
    "df= pd.DataFrame(data)"
   ]
  },
  {
   "cell_type": "code",
   "execution_count": 6,
   "id": "a94d376f",
   "metadata": {},
   "outputs": [],
   "source": [
    "cities= ['Abottabad','Attock','Bahawalnagar','Bahawalpur','Chiniot','Daska','Dera Ghazi Khan','Faisalabad','Gilgit','Gojra','Gujranwala','Gujrat','Hyderabad','Islamabad','Jhelum','Karachi','Khairpur','Lahore','Larkana','Layyah','Mardan','Mirpur Khas','Multan','Muzaffarabad','Okara','Peshawar','Quetta','Rahim Yar Khan','Rawalpindi','Sahiwal','Sargodha','Sheikhopora','Sialkot','Skardu','Swat','Wah']"
   ]
  },
  {
   "cell_type": "code",
   "execution_count": 7,
   "id": "90cbb689",
   "metadata": {},
   "outputs": [],
   "source": [
    "df['Cities']= df.insert(0, \"City\", cities)"
   ]
  },
  {
   "cell_type": "code",
   "execution_count": 8,
   "id": "0fbba7ca",
   "metadata": {},
   "outputs": [],
   "source": [
    "df.to_excel(\"Pakistan Crime.xlsx\", index=False)"
   ]
  },
  {
   "cell_type": "code",
   "execution_count": null,
   "id": "6035681a",
   "metadata": {},
   "outputs": [],
   "source": []
  }
 ],
 "metadata": {
  "kernelspec": {
   "display_name": "Python 3 (ipykernel)",
   "language": "python",
   "name": "python3"
  },
  "language_info": {
   "codemirror_mode": {
    "name": "ipython",
    "version": 3
   },
   "file_extension": ".py",
   "mimetype": "text/x-python",
   "name": "python",
   "nbconvert_exporter": "python",
   "pygments_lexer": "ipython3",
   "version": "3.11.5"
  }
 },
 "nbformat": 4,
 "nbformat_minor": 5
}
