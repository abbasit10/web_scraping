{
 "cells": [
  {
   "cell_type": "code",
   "execution_count": 1,
   "id": "f93bfa3d",
   "metadata": {},
   "outputs": [],
   "source": [
    "from bs4 import BeautifulSoup\n",
    "import requests\n",
    "import openpyxl"
   ]
  },
  {
   "cell_type": "code",
   "execution_count": 2,
   "id": "33983ed4",
   "metadata": {},
   "outputs": [],
   "source": [
    "excel= openpyxl.Workbook()"
   ]
  },
  {
   "cell_type": "code",
   "execution_count": 3,
   "id": "a0c26399",
   "metadata": {},
   "outputs": [],
   "source": [
    "sheet= excel.active\n",
    "sheet.title= \"Cricket Players with most 100's\""
   ]
  },
  {
   "cell_type": "code",
   "execution_count": 4,
   "id": "081e93ad",
   "metadata": {},
   "outputs": [],
   "source": [
    "# Column Names\n",
    "sheet.append(['Player Name','Career Span','Matches','Innings','Not Outs','Runs','Highest Score','Average',\"100's\",\"50's\",\"Ducks\"])"
   ]
  },
  {
   "cell_type": "code",
   "execution_count": 5,
   "id": "99f22318",
   "metadata": {},
   "outputs": [],
   "source": [
    "try:\n",
    "    headers = {\n",
    "        'User-Agent': 'Mozilla/5.0 (Windows NT 10.0; Win64; x64) AppleWebKit/537.36 (KHTML, like Gecko) Chrome/91.0.4472.124 Safari/537.36'\n",
    "    }\n",
    "    source = requests.get('https://www.espncricinfo.com/records/most-hundreds-in-a-career-284175', headers=headers)\n",
    "    source.raise_for_status()\n",
    "\n",
    "    soup = BeautifulSoup(source.text, 'html.parser')\n",
    "    players= soup.find('tbody', class_= \"\").find_all('tr',class_='')\n",
    "    \n",
    "    for player in players:\n",
    "        name= \" \".join(player.find('td', class_=\"ds-min-w-max\").find('span',class_=\"ds-text-tight-s ds-font-regular ds-text-typo-primary hover:ds-text-typo-primary-hover ds-block\").text.split(' ')[:2])\n",
    "        span= player.find_all('td', class_=\"ds-min-w-max ds-text-right\")[0].text.strip()\n",
    "        matches= player.find_all('td', class_=\"ds-min-w-max ds-text-right\")[1].text.strip()\n",
    "        innings= player.find_all('td', class_=\"ds-min-w-max ds-text-right\")[2].text.strip()\n",
    "        notouts= player.find_all('td', class_=\"ds-min-w-max ds-text-right\")[3].text.strip()\n",
    "        runs= player.find_all('td', class_=\"ds-min-w-max ds-text-right\")[4].text.strip()\n",
    "        highscore= player.find_all('td', class_=\"ds-min-w-max ds-text-right\")[5].text.strip()\n",
    "        average= player.find_all('td', class_=\"ds-min-w-max ds-text-right\")[6].text.strip()\n",
    "        hundreds= player.find_all('td', class_=\"ds-min-w-max ds-text-right\")[7].text.strip()\n",
    "        fifties= player.find_all('td', class_=\"ds-min-w-max ds-text-right\")[8].text.strip()\n",
    "        zeroes= player.find_all('td', class_=\"ds-min-w-max ds-text-right\")[9].text.strip()\n",
    "        \n",
    "        sheet.append([name,span,matches,innings,notouts,runs,highscore,average,hundreds,fifties,zeroes])\n",
    "        \n",
    "except Exception as e:\n",
    "    print(e)\n"
   ]
  },
  {
   "cell_type": "code",
   "execution_count": 6,
   "id": "05959a3b",
   "metadata": {},
   "outputs": [],
   "source": [
    "excel.save(\"Cricket Players with most 100's.xlsx\")"
   ]
  },
  {
   "cell_type": "code",
   "execution_count": null,
   "id": "7863ae76",
   "metadata": {},
   "outputs": [],
   "source": []
  }
 ],
 "metadata": {
  "kernelspec": {
   "display_name": "Python 3 (ipykernel)",
   "language": "python",
   "name": "python3"
  },
  "language_info": {
   "codemirror_mode": {
    "name": "ipython",
    "version": 3
   },
   "file_extension": ".py",
   "mimetype": "text/x-python",
   "name": "python",
   "nbconvert_exporter": "python",
   "pygments_lexer": "ipython3",
   "version": "3.11.5"
  }
 },
 "nbformat": 4,
 "nbformat_minor": 5
}
