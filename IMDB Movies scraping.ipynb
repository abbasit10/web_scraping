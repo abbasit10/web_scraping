{
 "cells": [
  {
   "cell_type": "code",
   "execution_count": 1,
   "id": "e79f487b",
   "metadata": {},
   "outputs": [],
   "source": [
    "from bs4 import BeautifulSoup\n",
    "import requests\n",
    "import openpyxl"
   ]
  },
  {
   "cell_type": "code",
   "execution_count": 2,
   "id": "818d33e2",
   "metadata": {},
   "outputs": [],
   "source": [
    "# Getting html source code of webpage\n",
    "source= requests.get('https://www.imdb.com/chart/top/')"
   ]
  },
  {
   "cell_type": "markdown",
   "id": "cb85f9d5",
   "metadata": {},
   "source": [
    "headers = {\n",
    "    'User-Agent': 'Mozilla/5.0 (Windows NT 10.0; Win64; x64) AppleWebKit/537.36 (KHTML, like Gecko) Chrome/91.0.4472.124 Safari/537.36'\n",
    "}\n",
    "\n",
    "* User-Agent: This is a string that a browser sends to a web server, indicating the type of browser and operating system being used. Websites can use this information to serve different content to different devices or block automated requests. By adding a User-Agent that mimics a real browser (in this case, Google Chrome on Windows), the script is more likely to be accepted by the server.\n",
    "\n",
    "source = requests.get('https://www.imdb.com/chart/top/', headers=headers)\n",
    "source.raise_for_status()\n",
    "\n",
    "* requests.get(): This function sends a GET request to the specified URL (https://www.imdb.com/chart/top/), with the custom headers included.\n",
    "* source.raise_for_status(): This method checks if the request was successful. If the server returns a status code that indicates an error (such as 403), this line will raise an exception.\n",
    "\n",
    "soup = BeautifulSoup(source.text, 'html.parser')\n",
    "print(soup.prettify())\n",
    "\n",
    "* BeautifulSoup(source.text, 'html.parser'): This line creates a BeautifulSoup object by parsing the HTML content (source.text) using the built-in HTML parser.\n",
    "* soup.prettify(): This method formats the parsed HTML into a more readable structure and outputs it. The print() function then displays this formatted HTML\n",
    "\n",
    "except Exception as e:\n",
    "    print(e)\n",
    "\n",
    "* This try-except block is used to handle potential errors that may occur during the HTTP request or HTML parsing. If an exception is raised, the error message is printed out."
   ]
  },
  {
   "cell_type": "code",
   "execution_count": 3,
   "id": "37f74401",
   "metadata": {},
   "outputs": [],
   "source": [
    "excel= openpyxl.Workbook()"
   ]
  },
  {
   "cell_type": "code",
   "execution_count": 4,
   "id": "0d0d64ef",
   "metadata": {},
   "outputs": [
    {
     "name": "stdout",
     "output_type": "stream",
     "text": [
      "['Sheet']\n"
     ]
    }
   ],
   "source": [
    "print(excel.sheetnames)"
   ]
  },
  {
   "cell_type": "code",
   "execution_count": 5,
   "id": "5ef6dde8",
   "metadata": {},
   "outputs": [],
   "source": [
    "sheet= excel.active\n",
    "sheet.title= \"Top Rated Movies\""
   ]
  },
  {
   "cell_type": "code",
   "execution_count": 6,
   "id": "24ecaeec",
   "metadata": {},
   "outputs": [
    {
     "name": "stdout",
     "output_type": "stream",
     "text": [
      "['Top Rated Movies']\n"
     ]
    }
   ],
   "source": [
    "print(excel.sheetnames)"
   ]
  },
  {
   "cell_type": "code",
   "execution_count": 7,
   "id": "6b945301",
   "metadata": {},
   "outputs": [],
   "source": [
    "# Column Names\n",
    "sheet.append(['Movie Rank','Movie Name','Year of Release','IMDB Rating'])"
   ]
  },
  {
   "cell_type": "code",
   "execution_count": null,
   "id": "d508a113",
   "metadata": {},
   "outputs": [],
   "source": []
  },
  {
   "cell_type": "code",
   "execution_count": 8,
   "id": "42160255",
   "metadata": {},
   "outputs": [
    {
     "name": "stdout",
     "output_type": "stream",
     "text": [
      "1  The Shawshank Redemption 1994 9.3\n",
      "2  The Godfather 1972 9.2\n",
      "3  The Dark Knight 2008 9.0\n",
      "4  The Godfather Part II 1974 9.0\n",
      "5  12 Angry Men 1957 9.0\n",
      "6  Schindler's List 1993 9.0\n",
      "7  The Lord of the Rings: The Return of the King 2003 9.0\n",
      "8  Pulp Fiction 1994 8.9\n",
      "9  The Lord of the Rings: The Fellowship of the Ring 2001 8.9\n",
      "10  Il buono, il brutto, il cattivo 1966 8.8\n",
      "11  Forrest Gump 1994 8.8\n",
      "12  The Lord of the Rings: The Two Towers 2002 8.8\n",
      "13  Fight Club 1999 8.8\n",
      "14  Inception 2010 8.8\n",
      "15  Star Wars: Episode V - The Empire Strikes Back 1980 8.7\n",
      "16  The Matrix 1999 8.7\n",
      "17  Goodfellas 1990 8.7\n",
      "18  One Flew Over the Cuckoo's Nest 1975 8.7\n",
      "19  Interstellar 2014 8.7\n",
      "20  Se7en 1995 8.6\n",
      "21  It's a Wonderful Life 1946 8.6\n",
      "22  Shichinin no samurai 1954 8.6\n",
      "23  The Silence of the Lambs 1991 8.6\n",
      "24  Saving Private Ryan 1998 8.6\n",
      "25  Cidade de Deus 2002 8.6\n"
     ]
    }
   ],
   "source": [
    "try:\n",
    "    headers = {\n",
    "        'User-Agent': 'Mozilla/5.0 (Windows NT 10.0; Win64; x64) AppleWebKit/537.36 (KHTML, like Gecko) Chrome/91.0.4472.124 Safari/537.36'\n",
    "    }\n",
    "    source = requests.get('https://www.imdb.com/chart/top/', headers=headers)\n",
    "    source.raise_for_status()\n",
    "\n",
    "    soup = BeautifulSoup(source.text, 'html.parser')\n",
    "    movies= soup.find('ul', class_= \"ipc-metadata-list ipc-metadata-list--dividers-between sc-a1e81754-0 dHaCOW compact-list-view ipc-metadata-list--base\", role= 'presentation').find_all('li', class_=\"ipc-metadata-list-summary-item sc-10233bc-0 TwzGn cli-parent\")\n",
    "    \n",
    "    for movie in movies:\n",
    "        name= movie.find('div', class_=\"ipc-title ipc-title--base ipc-title--title ipc-title-link-no-icon ipc-title--on-textPrimary sc-b189961a-9 bnSrml cli-title\").a.text.split('.')[1]\n",
    "        rank= movie.find('div', class_=\"ipc-title ipc-title--base ipc-title--title ipc-title-link-no-icon ipc-title--on-textPrimary sc-b189961a-9 bnSrml cli-title\").a.text.split('.')[0]\n",
    "        year= movie.find('div', class_=\"sc-b189961a-7 btCcOY cli-title-metadata\").find('span',class_=\"sc-b189961a-8 hCbzGp cli-title-metadata-item\").text\n",
    "        rating= movie.find('span', class_=\"sc-b189961a-1 kcRAsW\").find('span',class_=\"ipc-rating-star--rating\").text\n",
    "        \n",
    "        print(rank,name, year, rating)\n",
    "        sheet.append([rank,name,year,rating])\n",
    "        \n",
    "except Exception as e:\n",
    "    print(e)\n"
   ]
  },
  {
   "cell_type": "code",
   "execution_count": 9,
   "id": "47ef2084",
   "metadata": {},
   "outputs": [],
   "source": [
    "excel.save('IMDB Movies Rating.xlsx')"
   ]
  }
 ],
 "metadata": {
  "kernelspec": {
   "display_name": "Python 3 (ipykernel)",
   "language": "python",
   "name": "python3"
  },
  "language_info": {
   "codemirror_mode": {
    "name": "ipython",
    "version": 3
   },
   "file_extension": ".py",
   "mimetype": "text/x-python",
   "name": "python",
   "nbconvert_exporter": "python",
   "pygments_lexer": "ipython3",
   "version": "3.11.5"
  }
 },
 "nbformat": 4,
 "nbformat_minor": 5
}
